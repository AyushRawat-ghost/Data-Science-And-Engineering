{
 "cells": [
  {
   "cell_type": "code",
   "execution_count": 1,
   "id": "85221753",
   "metadata": {},
   "outputs": [],
   "source": [
    "############### Customer Report\n",
    "# Importing Necessary libraries\n",
    "import pyodbc\n",
    "import pandas as pd\n",
    "import matplotlib.pyplot as plt\n",
    "import seaborn as sns\n",
    "import urllib\n",
    "from sqlalchemy import create_engine\n",
    "\n",
    "server = 'LAPTOP-LFBT0G3K'\n",
    "database = 'DataWarehouse'\n",
    "driver = '{ODBC Driver 18 for SQL Server}'"
   ]
  },
  {
   "cell_type": "code",
   "execution_count": null,
   "id": "30cac60a",
   "metadata": {},
   "outputs": [
    {
     "name": "stdout",
     "output_type": "stream",
     "text": [
      "Attempting to connect to LAPTOP-LFBT0G3K/DataWarehouse using driver: {ODBC Driver 18 for SQL Server}\n",
      "Successfully connected to SQL Server!\n"
     ]
    }
   ],
   "source": [
    "try:\n",
    "    quoted_driver = urllib.parse.quote_plus(driver)\n",
    "    connection_uri = (\n",
    "        f'mssql+pyodbc:///?odbc_connect='\n",
    "        f'DRIVER={quoted_driver};'\n",
    "        f'SERVER={server};'\n",
    "        f'DATABASE={database};'\n",
    "        f'Trusted_Connection=yes;'\n",
    "        f'Encrypt=yes;'\n",
    "        f'TrustServerCertificate=yes;'\n",
    "    )\n",
    "    sql_analysis_query=\"\"\"\n",
    "                            WITH base_query AS(\n",
    "                            -- 1) Base Query: Retrieves core columns from tables\n",
    "                                SELECT\n",
    "                                    f.order_number,\n",
    "                                    f.product_key,\n",
    "                                    f.order_date,\n",
    "                                    f.sales_amount,\n",
    "                                    f.quantity,\n",
    "                                    c.customer_key,\n",
    "                                    CONCAT(c.first_name, ' ', c.last_name) AS customer_name,\n",
    "                                    DATEDIFF(year, c.birthdate, GETDATE()) age\n",
    "                                \n",
    "                                FROM gold.fact_sales f\n",
    "                                LEFT JOIN gold.dim_customer c\n",
    "                                \n",
    "                                ON c.customer_key = f.customer_key\n",
    "                                WHERE order_date IS NOT NULL),\n",
    "\n",
    "                            customer_aggregation AS (\n",
    "                            -- 2) Customer Aggregations: Summarizes key metrics at the customer level\n",
    "                                SELECT\n",
    "                                    customer_key,\n",
    "                                    customer_name,\n",
    "                                    age,\n",
    "                                    COUNT(DISTINCT order_number) AS total_orders,\n",
    "                                    SUM(sales_amount) AS total_sales,\n",
    "                                    SUM(quantity) AS total_quantity,\n",
    "                                    COUNT(DISTINCT product_key) AS total_products,\n",
    "                                    MAX(order_date) AS last_order_date,\n",
    "                                    DATEDIFF(month, MIN(order_date), MAX(order_date)) AS lifespan\n",
    "\n",
    "                                FROM base_query\n",
    "                                GROUP BY\n",
    "                                    customer_key,\n",
    "                                    customer_name,\n",
    "                                    age\n",
    "                                )\n",
    "\n",
    "                            SELECT\n",
    "                                customer_key,\n",
    "                                customer_name,\n",
    "                                age,\n",
    "                                \n",
    "                                CASE\n",
    "                                    WHEN age < 20 THEN 'Under 20'\n",
    "                                    WHEN age between 20 and 29 THEN '20-29'\n",
    "                                    WHEN age between 30 and 39 THEN '30-39'\n",
    "                                    WHEN age between 40 and 49 THEN '40-49'\n",
    "                                    ELSE '50 and above'\n",
    "                                END AS age_group,\n",
    "                                \n",
    "                                CASE\n",
    "                                    WHEN lifespan >= 12 AND total_sales > 5000 THEN 'VIP'\n",
    "                                    WHEN lifespan >= 12 AND total_sales <= 5000 THEN 'Regular'\n",
    "                                    ELSE 'New'\n",
    "                                END AS customer_segment,\n",
    "                                \n",
    "                                last_order_date,\n",
    "                                DATEDIFF(month, last_order_date, GETDATE()) AS recency,\n",
    "                                total_orders,\n",
    "                                total_sales,\n",
    "                                total_quantity,\n",
    "                                total_products\n",
    "                                lifespan,\n",
    "\n",
    "                            -- Compute average order value (AVO)\n",
    "                            CASE WHEN total_sales = 0 THEN 0\n",
    "                                ELSE total_sales / total_orders\n",
    "                            END AS avg_order_value,\n",
    "\n",
    "                            -- Compute average monthly spend\n",
    "                            CASE WHEN lifespan = 0 THEN total_sales\n",
    "                                ELSE total_sales / lifespan\n",
    "                            END AS avg_monthly_spend\n",
    "                            FROM customer_aggregation;\n",
    "    \"\"\"\n",
    "    print(f\"Attempting to connect to {server}/{database} using driver: {driver}\")\n",
    "    engine = create_engine(connection_uri)\n",
    "    print(\"Successfully connected to SQL Server!\")\n",
    "    \n",
    "    df_customer_report=pd.read_sql(sql_analysis_query,engine)\n",
    "\n",
    "\n",
    "except Exception as e:\n",
    "    print(f\"An unexpected error occurred: {e}\")"
   ]
  },
  {
   "cell_type": "code",
   "execution_count": 3,
   "id": "4b620c0b",
   "metadata": {},
   "outputs": [
    {
     "name": "stdout",
     "output_type": "stream",
     "text": [
      "first 5 rows fo sales analysis Data : \n"
     ]
    },
    {
     "ename": "NameError",
     "evalue": "name 'df_customer_report' is not defined",
     "output_type": "error",
     "traceback": [
      "\u001b[1;31m---------------------------------------------------------------------------\u001b[0m",
      "\u001b[1;31mNameError\u001b[0m                                 Traceback (most recent call last)",
      "Cell \u001b[1;32mIn[3], line 3\u001b[0m\n\u001b[0;32m      1\u001b[0m \u001b[38;5;66;03m# Test for Data\u001b[39;00m\n\u001b[0;32m      2\u001b[0m \u001b[38;5;28mprint\u001b[39m(\u001b[38;5;124m'\u001b[39m\u001b[38;5;124mfirst 5 rows fo sales analysis Data : \u001b[39m\u001b[38;5;124m'\u001b[39m)\n\u001b[1;32m----> 3\u001b[0m \u001b[38;5;28mprint\u001b[39m(\u001b[43mdf_customer_report\u001b[49m\u001b[38;5;241m.\u001b[39mhead())\n\u001b[0;32m      4\u001b[0m \u001b[38;5;28mprint\u001b[39m(\u001b[38;5;124m'\u001b[39m\u001b[38;5;130;01m\\n\u001b[39;00m\u001b[38;5;124mSales Analysis Data info : \u001b[39m\u001b[38;5;124m'\u001b[39m)\n\u001b[0;32m      5\u001b[0m \u001b[38;5;28mprint\u001b[39m(df_customer_report\u001b[38;5;241m.\u001b[39minfo())\n",
      "\u001b[1;31mNameError\u001b[0m: name 'df_customer_report' is not defined"
     ]
    }
   ],
   "source": [
    "# Test for Data\n",
    "print('first 5 rows fo sales analysis Data : ')\n",
    "print(df_customer_report.head())\n",
    "print('\\nSales Analysis Data info : ')\n",
    "print(df_customer_report.info())"
   ]
  }
 ],
 "metadata": {
  "kernelspec": {
   "display_name": "Tejaswini",
   "language": "python",
   "name": "python3"
  },
  "language_info": {
   "codemirror_mode": {
    "name": "ipython",
    "version": 3
   },
   "file_extension": ".py",
   "mimetype": "text/x-python",
   "name": "python",
   "nbconvert_exporter": "python",
   "pygments_lexer": "ipython3",
   "version": "3.9.22"
  }
 },
 "nbformat": 4,
 "nbformat_minor": 5
}
